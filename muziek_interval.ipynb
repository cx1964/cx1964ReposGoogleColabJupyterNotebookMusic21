{
  "nbformat": 4,
  "nbformat_minor": 0,
  "metadata": {
    "colab": {
      "name": "muziek_interval.ipynb",
      "provenance": [],
      "collapsed_sections": [],
      "authorship_tag": "ABX9TyMT/a69qoAY/97edEgqBZ1G",
      "include_colab_link": true
    },
    "kernelspec": {
      "name": "python3",
      "display_name": "Python 3"
    },
    "language_info": {
      "name": "python"
    }
  },
  "cells": [
    {
      "cell_type": "markdown",
      "metadata": {
        "id": "view-in-github",
        "colab_type": "text"
      },
      "source": [
        "<a href=\"https://colab.research.google.com/github/cx1964/weg/blob/master/muziek_interval.ipynb\" target=\"_parent\"><img src=\"https://colab.research.google.com/assets/colab-badge.svg\" alt=\"Open In Colab\"/></a>"
      ]
    },
    {
      "cell_type": "code",
      "metadata": {
        "id": "CtXzdWC6jWjO"
      },
      "source": [
        "# File:  muziek_interval.ipynb\n",
        "# Functie: Jupyter notebook tbv het gebruik van Muziek intervallen"
      ],
      "execution_count": 1,
      "outputs": []
    },
    {
      "cell_type": "code",
      "metadata": {
        "colab": {
          "base_uri": "https://localhost:8080/"
        },
        "id": "C3wVdS2_ldz-",
        "outputId": "478e43f6-bb4e-468f-c677-43566dacca3c"
      },
      "source": [
        "intervallen={  'k2': 2\n",
        "              ,'G2': 3\n",
        "              ,'k3': 4\n",
        "              ,'G3': 5}\n",
        "i=intervallen['G3']\n",
        "lNootwrd=2\n",
        "hNootwrd=lNootwrd+i\n",
        "print(hNootwrd)"
      ],
      "execution_count": 5,
      "outputs": [
        {
          "output_type": "stream",
          "text": [
            "7\n"
          ],
          "name": "stdout"
        }
      ]
    }
  ]
}