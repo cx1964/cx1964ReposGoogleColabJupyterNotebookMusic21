{
  "nbformat": 4,
  "nbformat_minor": 0,
  "metadata": {
    "colab": {
      "name": "muziek_interval.ipynb",
      "provenance": [],
      "authorship_tag": "ABX9TyNrASTIHxT8Kq1aBEbV7Qdi",
      "include_colab_link": true
    },
    "kernelspec": {
      "name": "python3",
      "display_name": "Python 3"
    },
    "language_info": {
      "name": "python"
    }
  },
  "cells": [
    {
      "cell_type": "markdown",
      "metadata": {
        "id": "view-in-github",
        "colab_type": "text"
      },
      "source": [
        "<a href=\"https://colab.research.google.com/github/cx1964/weg/blob/master/muziek_interval.ipynb\" target=\"_parent\"><img src=\"https://colab.research.google.com/assets/colab-badge.svg\" alt=\"Open In Colab\"/></a>"
      ]
    },
    {
      "cell_type": "code",
      "metadata": {
        "id": "CtXzdWC6jWjO"
      },
      "source": [
        "# File:  muziek_interval.ipynb\n",
        "# Functie: Jupyter notebook tbv het gebruik van Muziek intervallen"
      ],
      "execution_count": 1,
      "outputs": []
    }
  ]
}