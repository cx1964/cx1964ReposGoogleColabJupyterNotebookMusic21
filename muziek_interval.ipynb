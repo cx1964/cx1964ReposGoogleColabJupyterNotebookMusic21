{
  "nbformat": 4,
  "nbformat_minor": 0,
  "metadata": {
    "colab": {
      "name": "muziek_interval.ipynb",
      "provenance": [],
      "collapsed_sections": [],
      "authorship_tag": "ABX9TyPmJWfY6+ICljh0ZC2XolIs",
      "include_colab_link": true
    },
    "kernelspec": {
      "name": "python3",
      "display_name": "Python 3"
    },
    "language_info": {
      "name": "python"
    }
  },
  "cells": [
    {
      "cell_type": "markdown",
      "metadata": {
        "id": "view-in-github",
        "colab_type": "text"
      },
      "source": [
        "<a href=\"https://colab.research.google.com/github/cx1964/weg/blob/master/muziek_interval.ipynb\" target=\"_parent\"><img src=\"https://colab.research.google.com/assets/colab-badge.svg\" alt=\"Open In Colab\"/></a>"
      ]
    },
    {
      "cell_type": "code",
      "metadata": {
        "id": "CtXzdWC6jWjO"
      },
      "source": [
        "# File:  muziek_interval.ipynb\n",
        "# Functie: Jupyter notebook tbv het gebruik van Muziek intervallen"
      ],
      "execution_count": null,
      "outputs": []
    },
    {
      "cell_type": "code",
      "metadata": {
        "colab": {
          "base_uri": "https://localhost:8080/"
        },
        "id": "C3wVdS2_ldz-",
        "outputId": "ad4be2ef-1c18-4508-bd74-e734ccd89d48"
      },
      "source": [
        "# List of intervals:\n",
        "# P1, d2 = 0 half-steps\n",
        "# m2, A1 = 1 half-step\n",
        "# M2, d3 = 2 half-steps\n",
        "# m3, A2 = 3 half-steps\n",
        "# M3, d4 = 4 half-steps\n",
        "# P4, A3 = 5 half-steps\n",
        "# A4, d5 = 6 half-steps\n",
        "# P5, d6 = 7 half-steps\n",
        "# m6, A5 = 8 half-steps\n",
        "# M6, d7 = 9 half-steps\n",
        "# m7, A6 = 10 half-steps\n",
        "# M7, d8 = 11 half-steps\n",
        "# P8, A7 = 12 half-steps\n",
        "\n",
        "intervallen={  'k2': 1   # in 1/2 stappen\n",
        "              ,'G2': 2\n",
        "              ,'k3': 3\n",
        "              ,'G3': 4}\n",
        "i=intervallen['G3']\n",
        "lNootwrd=2\n",
        "hNootwrd=lNootwrd+i\n",
        "print(hNootwrd)"
      ],
      "execution_count": 2,
      "outputs": [
        {
          "output_type": "stream",
          "text": [
            "6\n"
          ],
          "name": "stdout"
        }
      ]
    },
    {
      "cell_type": "code",
      "metadata": {
        "id": "TTHL2dT8r5Jm"
      },
      "source": [
        ""
      ],
      "execution_count": null,
      "outputs": []
    }
  ]
}