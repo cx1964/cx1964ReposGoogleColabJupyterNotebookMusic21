{
  "nbformat": 4,
  "nbformat_minor": 0,
  "metadata": {
    "colab": {
      "name": "speelkaarten.ipynb",
      "provenance": [],
      "collapsed_sections": [],
      "authorship_tag": "ABX9TyO3jrSrUBSRwkNSJKcsrAhy",
      "include_colab_link": true
    },
    "kernelspec": {
      "name": "python3",
      "display_name": "Python 3"
    }
  },
  "cells": [
    {
      "cell_type": "markdown",
      "metadata": {
        "id": "view-in-github",
        "colab_type": "text"
      },
      "source": [
        "<a href=\"https://colab.research.google.com/github/cx1964/weg/blob/master/speelkaarten.ipynb\" target=\"_parent\"><img src=\"https://colab.research.google.com/assets/colab-badge.svg\" alt=\"Open In Colab\"/></a>"
      ]
    },
    {
      "cell_type": "code",
      "metadata": {
        "id": "mUWipS9fwnvO"
      },
      "source": [
        "# File: speelkaarten.ipynb\n",
        "# Functie: Een speelkaarten jupyter notebook\n",
        "# Opmerking: code afkomstig van git repro cx1964/src_local_eLearn_Data_Science\n",
        "\n",
        "# Dit notebook is ook opgeslagen in git repro cx1964/weg \n"
      ],
      "execution_count": null,
      "outputs": []
    },
    {
      "cell_type": "code",
      "metadata": {
        "id": "P3CkdqMYx62f"
      },
      "source": [
        "# file: speelkaart.py\n",
        "\n",
        "class Speelkaarten:\n",
        "\n",
        "    # Maak een set speelkaarten\n",
        "    # set harten kaarten als tuple, omdat dan de volgorde gehandhaafd blijft \n",
        "    harten   = ('H2','H3','H4','H5','H6','H7','H8','H9','H10','HB','HV','HK','HA')\n",
        "    # set harten ruiten kaarten\n",
        "    ruiten   = ('R2','R3','R4','R5','R6','R7','R8','R9','R10','RB','RV','RK','RA')\n",
        "    # set klaver kaarten\n",
        "    klavers  = ('K2','K3','K4','K5','K6','K7','K8','K9','K10','KB','KV','KK','KA')\n",
        "    # set schoppen kaarten\n",
        "    schoppen = ('S2','S3','S4','S5','S6','S7','S8','S9','S10','SB','SV','SK','SA')\n",
        "    # Maak een set_speelkaarten als dict\n",
        "    kaartspel = { 'harten': harten, 'ruiten':ruiten, 'klavers':klavers, 'schoppen':schoppen }\n",
        "\n",
        "\n",
        "    def get_kleur (self, kleur):\n",
        "        \"\"\"\n",
        "        get_kleur genereert obv een geven set kaarten een nieuwe set kaarten\n",
        "\n",
        "        Parameters\n",
        "        ----------\n",
        "        kaarten_in : tuple van string waarden\n",
        "        Deze parameter geeft de invoer waarop de niewue set karten wordt gegenereerd \n",
        "\n",
        "        kleur      : str of typle\n",
        "        Deze parameter geeft aan voor welke kleur de nieuwe set met kaarten genereerd moet worden \n",
        "        \"\"\"\n",
        "        if isinstance(kleur, str): # type checking voor str\n",
        "          kaarten_uit =  self.kaartspel[kleur]   #kaarten_in[kleur] vervangen voor self.kaartspel[kleur] tijdens maken van functie naar een class functie\n",
        "        elif isinstance(kleur, tuple): # type checking voor tuple\n",
        "          kaarten_uit=()\n",
        "          for e in kleur:\n",
        "            kaarten_uit = kaarten_uit+self.kaartspel[e]     # kaarten_in[e] ervangen voor self.kaartspel[e] tijdens maken van functie naar een class functie\n",
        "        else:\n",
        "          kaarten_uit = ()\n",
        "        return(kaarten_uit)\n",
        "\n",
        "\n",
        "\n",
        "    def get_kaart_waarde (self, kaart_waarde_in):\n",
        "        \"\"\"\n",
        "        get_kaart_waarde genereert obv een geven set kaarten een nieuwe set kaarten \n",
        "        waarbij de kaartwaarde overeen komt met de parameter kaart_waarde_in uit een kaartspel.\n",
        "    \n",
        "        Parameters\n",
        "        ----------\n",
        "        kaarten_in : tuple van string waarden\n",
        "          Deze parameter geeft de invoer waarop de nieuwe set karten wordt gegenereerd \n",
        "\n",
        "        kaart_waarde_in : str\n",
        "          Deze parameter bepaald welke kaartwaarden terug gegeven moeten worden\n",
        "\n",
        "        \"\"\"\n",
        "        kaarten_uit=tuple()\n",
        "    \n",
        "        # print(\"\\ninteratie loop type(kaart_waarde_in) \", type(kaart_waarde_in), kaart_waarde_in)\n",
        "        if isinstance(kaart_waarde_in, tuple): # type checking voor tuple\n",
        "          # print('Nu in tuple-deel')\n",
        "    \n",
        "          # aantal_kaartwaarden=len(kaart_waarde_in)\n",
        "          # print(\"aantal_kaartwaarden \", aantal_kaartwaarden)\n",
        "\n",
        "          # loop over de kaart_waarden kw\n",
        "          for kw in kaart_waarde_in:\n",
        "            # print('wat komt binnen ', kw, kaart_waarde_in)  \n",
        "            kaarten_uit=kaarten_uit+self.get_kaart_waarde(kw)\n",
        "\n",
        "        # Eind criterium recursie\n",
        "        elif isinstance(kaart_waarde_in, str): # type checking voor str\n",
        "          # print('Nu in str-deel')\n",
        "          # loop over de kleurtypen kt\n",
        "          for kt in self.kaartspel:\n",
        "            # print(kt)\n",
        "            # loop over de kaarten k binnen een kleurtypen\n",
        "            for k in self.kaartspel[kt]:\n",
        "                ks=str(k)\n",
        "                kaart_kleur = ks[0:1]\n",
        "                kaart_waarde = ks[1:2]\n",
        "                if kaart_waarde == kaart_waarde_in:\n",
        "                    # debug\n",
        "                    # print('local var kaart_waarde ', kaart_waarde, 'functie parm kaart_waarde_in ', kaart_waarde_in)\n",
        "                    # print('gevonden kaart ', k, ' voor kaartwaarde ', kaart_waarde)\n",
        "                    kaarten_uit=kaarten_uit+tuple([k]) # ipv k\n",
        "        return(kaarten_uit)\n",
        "\n",
        "\n",
        "\n",
        "    '''\n",
        "    ToDo afmaken:\n",
        "    def get_kaarten_range_van_kleur(kaarten_in , kleur, start, eind):\n",
        "        # start = start element nummer in reeks\n",
        "        # eind  = stop element nummer in reeks\n",
        "        kaarten = set_speelkaarten[kleur]\n",
        "    \n",
        "        # zie voorbeeld mbt tuple bewerkingen in repos cx1964PublicTubleBasics\n",
        "        # gebruik ook een dict als index om de vertaling van de waarde naar de rang te kunneen maken\n",
        "        # Zodat men ook ranges kan maken van '2':'V' of ook van 'K':'B'\n",
        "    '''\n",
        "\n",
        "    # nog ander functie definities\n"
      ],
      "execution_count": null,
      "outputs": []
    },
    {
      "cell_type": "code",
      "metadata": {
        "id": "xHhDtb_py2rS",
        "outputId": "f0321cec-1b73-471d-dcbd-7e1edd3be093",
        "colab": {
          "base_uri": "https://localhost:8080/",
          "height": 136
        }
      },
      "source": [
        "# File: mainSpeelkaart.py\n",
        "\n",
        "# Filenaam: mainSpeellkaart.py\n",
        "# Functie: source file voor het gebruik van de class definitie uit module speelkaart\n",
        "\n",
        "\n",
        "##import speelkaart as spkrtm\n",
        "\n",
        "## code tbv het gebruik van  de module met het speelkaart object\n",
        "## skrt = spkrtm.Speelkaarten()\n",
        "skrt = Speelkaarten() \n",
        "\n",
        "# test calls van get_kleur\n",
        "k = skrt.get_kleur('schoppen')\n",
        "print(k)\n",
        "k=skrt.get_kleur('ruiten')\n",
        "print(k)\n",
        "\n",
        "# test calls van get_kaart_waarde\n",
        "k=skrt.get_kaart_waarde('3') # parameter is een str\n",
        "print('ḱ=', k)\n",
        "k=skrt.get_kaart_waarde('A')\n",
        "print('ḱ=', k)\n",
        "k=skrt.get_kaart_waarde(('4')) # parameter is een tuple met 1 str\n",
        "print('ḱ=', k)\n",
        "k=skrt.get_kaart_waarde(('B','V','K','7')) # parameter is een tuple met 4 str waarden\n",
        "print('ḱ=', k)\n",
        "waarde_tuple=('2','4','6')\n",
        "k=skrt.get_kaart_waarde(waarde_tuple)\n",
        "print('ḱ=', k)\n"
      ],
      "execution_count": null,
      "outputs": [
        {
          "output_type": "stream",
          "text": [
            "('S2', 'S3', 'S4', 'S5', 'S6', 'S7', 'S8', 'S9', 'S10', 'SB', 'SV', 'SK', 'SA')\n",
            "('R2', 'R3', 'R4', 'R5', 'R6', 'R7', 'R8', 'R9', 'R10', 'RB', 'RV', 'RK', 'RA')\n",
            "ḱ= ('H3', 'R3', 'K3', 'S3')\n",
            "ḱ= ('HA', 'RA', 'KA', 'SA')\n",
            "ḱ= ('H4', 'R4', 'K4', 'S4')\n",
            "ḱ= ('HB', 'RB', 'KB', 'SB', 'HV', 'RV', 'KV', 'SV', 'HK', 'RK', 'KK', 'SK', 'H7', 'R7', 'K7', 'S7')\n",
            "ḱ= ('H2', 'R2', 'K2', 'S2', 'H4', 'R4', 'K4', 'S4', 'H6', 'R6', 'K6', 'S6')\n"
          ],
          "name": "stdout"
        }
      ]
    },
    {
      "cell_type": "code",
      "metadata": {
        "id": "IsOlELbb0bxn"
      },
      "source": [
        "# hergebruik onderstaande door te integeren in de class definitie\n",
        "\n",
        "# filenaam:basic_tuples.py\n",
        "# functie: basic tuple bewerkingen\n",
        "\n",
        "mytuple = (1,2,3,4,5)\n",
        "print(\"mytuple \", mytuple,' ',type(mytuple))\n",
        "print(\"mytuple[0:2] \", mytuple[0:2]) # begin bij 0 te tellen\n",
        "\n",
        "# negatieve indexen\n",
        "print(\"mytuple[-4:-1]\", mytuple[-4:-1]) # geef de elementen ivm de min mbt de 4e van ochter tot de 1e van achter\n",
        "\n",
        "# tuple achterste voren afdrukken\n",
        "t=tuple()\n",
        "for i in range( len(mytuple) - 1, -1, -1):\n",
        "    t=t+(mytuple[i],) # de haakjes +de komma is nodig om een tuple van ints teconcateneren met een int  \n",
        "print(\"reversed tuple \", t)    "
      ],
      "execution_count": null,
      "outputs": []
    }
  ]
}