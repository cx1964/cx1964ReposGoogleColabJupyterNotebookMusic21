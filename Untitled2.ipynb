{
  "nbformat": 4,
  "nbformat_minor": 0,
  "metadata": {
    "colab": {
      "name": "Untitled2.ipynb",
      "provenance": [],
      "collapsed_sections": [],
      "authorship_tag": "ABX9TyOhCSsFNiXJwUFgoD3dTTL9",
      "include_colab_link": true
    },
    "kernelspec": {
      "name": "python3",
      "display_name": "Python 3"
    },
    "language_info": {
      "name": "python"
    }
  },
  "cells": [
    {
      "cell_type": "markdown",
      "metadata": {
        "id": "view-in-github",
        "colab_type": "text"
      },
      "source": [
        "<a href=\"https://colab.research.google.com/github/cx1964/weg/blob/master/Untitled2.ipynb\" target=\"_parent\"><img src=\"https://colab.research.google.com/assets/colab-badge.svg\" alt=\"Open In Colab\"/></a>"
      ]
    },
    {
      "cell_type": "code",
      "metadata": {
        "colab": {
          "base_uri": "https://localhost:8080/"
        },
        "id": "7sV4a_fL8gSg",
        "outputId": "bd05e56c-7835-4d27-98c3-a4537c8a439a"
      },
      "source": [
        "music_info=dict()\n",
        "# create the time info for both staves\n",
        "x0=[['m1', 1],['m1', 2], ['m1', 3], ['m2', 1], ['m2', 2], ['m2', 3]]\n",
        "x1=x0\n",
        "music_info['x0']=x0\n",
        "music_info['x1']=x1\n",
        "# create the note value info for both staves\n",
        "y0=[0,1,2,3,4,5]\n",
        "y1=[6,7,8,9,10,11]\n",
        "music_info['y0']=y0\n",
        "music_info['y1']=y1\n",
        "print(music_info)\n",
        "for t in ['x0', 'x1']:\n",
        "    print(music_info[t])\n",
        "for n in ['y0', 'y1']:\n",
        "    print(music_info[n])"
      ],
      "execution_count": 11,
      "outputs": [
        {
          "output_type": "stream",
          "text": [
            "{'x0': [['m1', 1], ['m1', 2], ['m1', 3], ['m2', 1], ['m2', 2], ['m2', 3]], 'x1': [['m1', 1], ['m1', 2], ['m1', 3], ['m2', 1], ['m2', 2], ['m2', 3]], 'y0': [0, 1, 2, 3, 4, 5], 'y1': [6, 7, 8, 9, 10, 11]}\n",
            "[['m1', 1], ['m1', 2], ['m1', 3], ['m2', 1], ['m2', 2], ['m2', 3]]\n",
            "[['m1', 1], ['m1', 2], ['m1', 3], ['m2', 1], ['m2', 2], ['m2', 3]]\n",
            "[0, 1, 2, 3, 4, 5]\n",
            "[6, 7, 8, 9, 10, 11]\n"
          ],
          "name": "stdout"
        }
      ]
    },
    {
      "cell_type": "markdown",
      "metadata": {
        "id": "Fo28sEIlFduy"
      },
      "source": [
        ""
      ]
    },
    {
      "cell_type": "code",
      "metadata": {
        "id": "M73RZN6FFf2_"
      },
      "source": [
        ""
      ],
      "execution_count": null,
      "outputs": []
    },
    {
      "cell_type": "markdown",
      "metadata": {
        "id": "GqpPTEIOGzHz"
      },
      "source": [
        "# New Section"
      ]
    }
  ]
}