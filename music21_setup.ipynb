{
  "nbformat": 4,
  "nbformat_minor": 0,
  "metadata": {
    "colab": {
      "name": "music21_setup.ipynb",
      "provenance": [],
      "collapsed_sections": [
        "7ayYu78SYWs7"
      ],
      "toc_visible": true,
      "include_colab_link": true
    },
    "kernelspec": {
      "name": "python3",
      "display_name": "Python 3"
    }
  },
  "cells": [
    {
      "cell_type": "markdown",
      "metadata": {
        "id": "view-in-github",
        "colab_type": "text"
      },
      "source": [
        "<a href=\"https://colab.research.google.com/github/cx1964/weg/blob/master/music21_setup.ipynb\" target=\"_parent\"><img src=\"https://colab.research.google.com/assets/colab-badge.svg\" alt=\"Open In Colab\"/></a>"
      ]
    },
    {
      "cell_type": "markdown",
      "metadata": {
        "id": "7ayYu78SYWs7"
      },
      "source": [
        "# Set up music21 for Colab\n",
        "\n",
        "Click the play button below to upgrade music21 and install MuseScore to use in Google Colab"
      ]
    },
    {
      "cell_type": "code",
      "metadata": {
        "id": "0bh1YgqP56Gq",
        "colab": {
          "base_uri": "https://localhost:8080/"
        },
        "outputId": "fa866722-f767-41e6-8505-a2b87fca9f91"
      },
      "source": [
        "!pip install --upgrade music21"
      ],
      "execution_count": 1,
      "outputs": [
        {
          "output_type": "stream",
          "name": "stdout",
          "text": [
            "Looking in indexes: https://pypi.org/simple, https://us-python.pkg.dev/colab-wheels/public/simple/\n",
            "Requirement already satisfied: music21 in /usr/local/lib/python3.8/dist-packages (5.5.0)\n",
            "Collecting music21\n",
            "  Downloading music21-8.1.0-py3-none-any.whl (22.8 MB)\n",
            "\u001b[2K     \u001b[90m━━━━━━━━━━━━━━━━━━━━━━━━━━━━━━━━━━━━━━━━\u001b[0m \u001b[32m22.8/22.8 MB\u001b[0m \u001b[31m42.8 MB/s\u001b[0m eta \u001b[36m0:00:00\u001b[0m\n",
            "\u001b[?25hCollecting webcolors>=1.5\n",
            "  Downloading webcolors-1.12-py3-none-any.whl (9.9 kB)\n",
            "Requirement already satisfied: chardet in /usr/local/lib/python3.8/dist-packages (from music21) (4.0.0)\n",
            "Requirement already satisfied: requests in /usr/local/lib/python3.8/dist-packages (from music21) (2.25.1)\n",
            "Requirement already satisfied: matplotlib in /usr/local/lib/python3.8/dist-packages (from music21) (3.2.2)\n",
            "Requirement already satisfied: more-itertools in /usr/local/lib/python3.8/dist-packages (from music21) (9.0.0)\n",
            "Collecting jsonpickle\n",
            "  Downloading jsonpickle-3.0.1-py2.py3-none-any.whl (40 kB)\n",
            "\u001b[2K     \u001b[90m━━━━━━━━━━━━━━━━━━━━━━━━━━━━━━━━━━━━━━━━\u001b[0m \u001b[32m40.5/40.5 KB\u001b[0m \u001b[31m4.1 MB/s\u001b[0m eta \u001b[36m0:00:00\u001b[0m\n",
            "\u001b[?25hRequirement already satisfied: numpy in /usr/local/lib/python3.8/dist-packages (from music21) (1.21.6)\n",
            "Requirement already satisfied: joblib in /usr/local/lib/python3.8/dist-packages (from music21) (1.2.0)\n",
            "Requirement already satisfied: cycler>=0.10 in /usr/local/lib/python3.8/dist-packages (from matplotlib->music21) (0.11.0)\n",
            "Requirement already satisfied: pyparsing!=2.0.4,!=2.1.2,!=2.1.6,>=2.0.1 in /usr/local/lib/python3.8/dist-packages (from matplotlib->music21) (3.0.9)\n",
            "Requirement already satisfied: python-dateutil>=2.1 in /usr/local/lib/python3.8/dist-packages (from matplotlib->music21) (2.8.2)\n",
            "Requirement already satisfied: kiwisolver>=1.0.1 in /usr/local/lib/python3.8/dist-packages (from matplotlib->music21) (1.4.4)\n",
            "Requirement already satisfied: certifi>=2017.4.17 in /usr/local/lib/python3.8/dist-packages (from requests->music21) (2022.12.7)\n",
            "Requirement already satisfied: urllib3<1.27,>=1.21.1 in /usr/local/lib/python3.8/dist-packages (from requests->music21) (1.24.3)\n",
            "Requirement already satisfied: idna<3,>=2.5 in /usr/local/lib/python3.8/dist-packages (from requests->music21) (2.10)\n",
            "Requirement already satisfied: six>=1.5 in /usr/local/lib/python3.8/dist-packages (from python-dateutil>=2.1->matplotlib->music21) (1.15.0)\n",
            "Installing collected packages: webcolors, jsonpickle, music21\n",
            "  Attempting uninstall: music21\n",
            "    Found existing installation: music21 5.5.0\n",
            "    Uninstalling music21-5.5.0:\n",
            "      Successfully uninstalled music21-5.5.0\n",
            "Successfully installed jsonpickle-3.0.1 music21-8.1.0 webcolors-1.12\n"
          ]
        }
      ]
    },
    {
      "cell_type": "code",
      "metadata": {
        "id": "8r3K2_Tu7NUo",
        "colab": {
          "base_uri": "https://localhost:8080/"
        },
        "outputId": "f6e3041d-7ba4-490e-ad9d-cc64888ded89"
      },
      "source": [
        "!add-apt-repository ppa:mscore-ubuntu/mscore-stable -y\n",
        "!apt-get update\n",
        "!apt-get install musescore"
      ],
      "execution_count": 2,
      "outputs": [
        {
          "output_type": "stream",
          "name": "stdout",
          "text": [
            "\r0% [Working]\r            \rGet:1 https://cloud.r-project.org/bin/linux/ubuntu bionic-cran40/ InRelease [3,626 B]\n",
            "\r0% [Waiting for headers] [Waiting for headers] [1 InRelease 0 B/3,626 B 0%] [Wa\r0% [Waiting for headers] [Waiting for headers] [Waiting for headers] [Connectin\r0% [1 InRelease gpgv 3,626 B] [Waiting for headers] [Waiting for headers] [Wait\r                                                                               \rGet:2 http://security.ubuntu.com/ubuntu bionic-security InRelease [88.7 kB]\n",
            "\r0% [1 InRelease gpgv 3,626 B] [Waiting for headers] [2 InRelease 14.2 kB/88.7 k\r                                                                               \rIgn:3 https://developer.download.nvidia.com/compute/machine-learning/repos/ubuntu1804/x86_64  InRelease\n",
            "\r0% [1 InRelease gpgv 3,626 B] [Waiting for headers] [2 InRelease 14.2 kB/88.7 k\r                                                                               \rHit:4 http://archive.ubuntu.com/ubuntu bionic InRelease\n",
            "\r0% [1 InRelease gpgv 3,626 B] [Waiting for headers] [2 InRelease 14.2 kB/88.7 k\r                                                                               \rHit:5 https://developer.download.nvidia.com/compute/cuda/repos/ubuntu1804/x86_64  InRelease\n",
            "\r0% [1 InRelease gpgv 3,626 B] [Waiting for headers] [2 InRelease 14.2 kB/88.7 k\r                                                                               \rHit:6 http://ppa.launchpad.net/c2d4u.team/c2d4u4.0+/ubuntu bionic InRelease\n",
            "Hit:7 https://developer.download.nvidia.com/compute/machine-learning/repos/ubuntu1804/x86_64  Release\n",
            "Get:8 http://archive.ubuntu.com/ubuntu bionic-updates InRelease [88.7 kB]\n",
            "Hit:9 http://ppa.launchpad.net/cran/libgit2/ubuntu bionic InRelease\n",
            "Hit:10 http://ppa.launchpad.net/deadsnakes/ppa/ubuntu bionic InRelease\n",
            "Get:11 http://archive.ubuntu.com/ubuntu bionic-backports InRelease [83.3 kB]\n",
            "Get:12 http://ppa.launchpad.net/graphics-drivers/ppa/ubuntu bionic InRelease [21.3 kB]\n",
            "Get:13 http://ppa.launchpad.net/mscore-ubuntu/mscore-stable/ubuntu bionic InRelease [15.4 kB]\n",
            "Get:15 http://security.ubuntu.com/ubuntu bionic-security/restricted amd64 Packages [1,349 kB]\n",
            "Get:16 http://security.ubuntu.com/ubuntu bionic-security/main amd64 Packages [3,127 kB]\n",
            "Get:17 http://security.ubuntu.com/ubuntu bionic-security/universe amd64 Packages [1,573 kB]\n",
            "Get:18 http://archive.ubuntu.com/ubuntu bionic-updates/multiverse amd64 Packages [30.9 kB]\n",
            "Get:19 http://archive.ubuntu.com/ubuntu bionic-updates/universe amd64 Packages [2,348 kB]\n",
            "Get:20 http://archive.ubuntu.com/ubuntu bionic-updates/restricted amd64 Packages [1,389 kB]\n",
            "Get:21 http://archive.ubuntu.com/ubuntu bionic-updates/main amd64 Packages [3,549 kB]\n",
            "Get:22 http://ppa.launchpad.net/graphics-drivers/ppa/ubuntu bionic/main amd64 Packages [43.2 kB]\n",
            "Get:23 http://ppa.launchpad.net/mscore-ubuntu/mscore-stable/ubuntu bionic/main amd64 Packages [1,831 B]\n",
            "Fetched 13.7 MB in 4s (3,652 kB/s)\n",
            "Reading package lists... Done\n",
            "Hit:1 https://cloud.r-project.org/bin/linux/ubuntu bionic-cran40/ InRelease\n",
            "Hit:2 http://security.ubuntu.com/ubuntu bionic-security InRelease\n",
            "Hit:3 http://archive.ubuntu.com/ubuntu bionic InRelease\n",
            "Hit:4 http://ppa.launchpad.net/c2d4u.team/c2d4u4.0+/ubuntu bionic InRelease\n",
            "Ign:5 https://developer.download.nvidia.com/compute/machine-learning/repos/ubuntu1804/x86_64  InRelease\n",
            "Hit:6 https://developer.download.nvidia.com/compute/cuda/repos/ubuntu1804/x86_64  InRelease\n",
            "Hit:7 https://developer.download.nvidia.com/compute/machine-learning/repos/ubuntu1804/x86_64  Release\n",
            "Hit:8 http://archive.ubuntu.com/ubuntu bionic-updates InRelease\n",
            "Hit:9 http://archive.ubuntu.com/ubuntu bionic-backports InRelease\n",
            "Hit:10 http://ppa.launchpad.net/cran/libgit2/ubuntu bionic InRelease\n",
            "Hit:11 http://ppa.launchpad.net/deadsnakes/ppa/ubuntu bionic InRelease\n",
            "Hit:12 http://ppa.launchpad.net/graphics-drivers/ppa/ubuntu bionic InRelease\n",
            "Hit:13 http://ppa.launchpad.net/mscore-ubuntu/mscore-stable/ubuntu bionic InRelease\n",
            "Reading package lists... Done\n",
            "Reading package lists... Done\n",
            "Building dependency tree       \n",
            "Reading state information... Done\n",
            "The following package was automatically installed and is no longer required:\n",
            "  libnvidia-common-460\n",
            "Use 'apt autoremove' to remove it.\n",
            "The following additional packages will be installed:\n",
            "  desktop-file-utils fonts-freefont-ttf libgl1-mesa-glx libportaudio2\n",
            "  libportmidi0 libqt5help5 libqt5qml5 libqt5quick5 libqt5svg5\n",
            "  libqt5xmlpatterns5 musescore-common musescore-general-soundfont-small\n",
            "  qml-module-qtgraphicaleffects qml-module-qtquick-controls\n",
            "  qml-module-qtquick-dialogs qml-module-qtquick-layouts\n",
            "  qml-module-qtquick-privatewidgets qml-module-qtquick-window2\n",
            "  qml-module-qtquick2\n",
            "Suggested packages:\n",
            "  qt5-qmltooling-plugins pulseaudio-utils\n",
            "The following NEW packages will be installed:\n",
            "  desktop-file-utils fonts-freefont-ttf libgl1-mesa-glx libportaudio2\n",
            "  libportmidi0 libqt5help5 libqt5qml5 libqt5quick5 libqt5svg5\n",
            "  libqt5xmlpatterns5 musescore musescore-common\n",
            "  musescore-general-soundfont-small qml-module-qtgraphicaleffects\n",
            "  qml-module-qtquick-controls qml-module-qtquick-dialogs\n",
            "  qml-module-qtquick-layouts qml-module-qtquick-privatewidgets\n",
            "  qml-module-qtquick-window2 qml-module-qtquick2\n",
            "0 upgraded, 20 newly installed, 0 to remove and 26 not upgraded.\n",
            "Need to get 51.8 MB of archives.\n",
            "After this operation, 116 MB of additional disk space will be used.\n",
            "Get:1 http://archive.ubuntu.com/ubuntu bionic-updates/main amd64 libqt5svg5 amd64 5.9.5-0ubuntu1.1 [129 kB]\n",
            "Get:2 http://ppa.launchpad.net/mscore-ubuntu/mscore-stable/ubuntu bionic/main amd64 musescore-general-soundfont-small all 0.2.1-1~ppa [34.2 MB]\n",
            "Get:3 http://archive.ubuntu.com/ubuntu bionic-updates/universe amd64 libqt5qml5 amd64 5.9.5-0ubuntu1.1 [1,242 kB]\n",
            "Get:4 http://archive.ubuntu.com/ubuntu bionic-updates/universe amd64 libqt5quick5 amd64 5.9.5-0ubuntu1.1 [1,201 kB]\n",
            "Get:5 http://archive.ubuntu.com/ubuntu bionic-updates/universe amd64 qml-module-qtquick-window2 amd64 5.9.5-0ubuntu1.1 [18.1 kB]\n",
            "Get:6 http://archive.ubuntu.com/ubuntu bionic-updates/universe amd64 qml-module-qtquick2 amd64 5.9.5-0ubuntu1.1 [31.4 kB]\n",
            "Get:7 http://archive.ubuntu.com/ubuntu bionic/universe amd64 qml-module-qtgraphicaleffects amd64 5.9.5-0ubuntu1 [96.1 kB]\n",
            "Get:8 http://archive.ubuntu.com/ubuntu bionic-updates/universe amd64 qml-module-qtquick-layouts amd64 5.9.5-0ubuntu1.1 [44.9 kB]\n",
            "Get:9 http://archive.ubuntu.com/ubuntu bionic/universe amd64 qml-module-qtquick-controls amd64 5.9.5-0ubuntu1 [712 kB]\n",
            "Get:10 http://archive.ubuntu.com/ubuntu bionic-updates/main amd64 desktop-file-utils amd64 0.23-1ubuntu3.18.04.2 [51.4 kB]\n",
            "Get:11 http://archive.ubuntu.com/ubuntu bionic/main amd64 fonts-freefont-ttf all 20120503-7 [4,202 kB]\n",
            "Get:12 http://archive.ubuntu.com/ubuntu bionic-updates/main amd64 libgl1-mesa-glx amd64 20.0.8-0ubuntu1~18.04.1 [5,532 B]\n",
            "Get:13 http://archive.ubuntu.com/ubuntu bionic/universe amd64 libportaudio2 amd64 19.6.0-1 [64.6 kB]\n",
            "Get:14 http://archive.ubuntu.com/ubuntu bionic/universe amd64 libportmidi0 amd64 1:217-6 [17.8 kB]\n",
            "Get:15 http://archive.ubuntu.com/ubuntu bionic/universe amd64 libqt5help5 amd64 5.9.5-0ubuntu1 [133 kB]\n",
            "Get:16 http://archive.ubuntu.com/ubuntu bionic/universe amd64 libqt5xmlpatterns5 amd64 5.9.5-0ubuntu1 [916 kB]\n",
            "Get:17 http://archive.ubuntu.com/ubuntu bionic/universe amd64 qml-module-qtquick-privatewidgets amd64 5.9.5-0ubuntu1 [41.7 kB]\n",
            "Get:18 http://archive.ubuntu.com/ubuntu bionic/universe amd64 qml-module-qtquick-dialogs amd64 5.9.5-0ubuntu1 [122 kB]\n",
            "Get:19 http://ppa.launchpad.net/mscore-ubuntu/mscore-stable/ubuntu bionic/main amd64 musescore-common all 2.3.2+dfsg4-15~ppa1804+1 [3,358 kB]\n",
            "Get:20 http://ppa.launchpad.net/mscore-ubuntu/mscore-stable/ubuntu bionic/main amd64 musescore amd64 2.3.2+dfsg4-15~ppa1804+1 [5,271 kB]\n",
            "Fetched 51.8 MB in 4s (12.8 MB/s)\n",
            "Selecting previously unselected package libqt5svg5:amd64.\n",
            "(Reading database ... 124016 files and directories currently installed.)\n",
            "Preparing to unpack .../00-libqt5svg5_5.9.5-0ubuntu1.1_amd64.deb ...\n",
            "Unpacking libqt5svg5:amd64 (5.9.5-0ubuntu1.1) ...\n",
            "Selecting previously unselected package libqt5qml5:amd64.\n",
            "Preparing to unpack .../01-libqt5qml5_5.9.5-0ubuntu1.1_amd64.deb ...\n",
            "Unpacking libqt5qml5:amd64 (5.9.5-0ubuntu1.1) ...\n",
            "Selecting previously unselected package libqt5quick5:amd64.\n",
            "Preparing to unpack .../02-libqt5quick5_5.9.5-0ubuntu1.1_amd64.deb ...\n",
            "Unpacking libqt5quick5:amd64 (5.9.5-0ubuntu1.1) ...\n",
            "Selecting previously unselected package qml-module-qtquick-window2:amd64.\n",
            "Preparing to unpack .../03-qml-module-qtquick-window2_5.9.5-0ubuntu1.1_amd64.deb ...\n",
            "Unpacking qml-module-qtquick-window2:amd64 (5.9.5-0ubuntu1.1) ...\n",
            "Selecting previously unselected package qml-module-qtquick2:amd64.\n",
            "Preparing to unpack .../04-qml-module-qtquick2_5.9.5-0ubuntu1.1_amd64.deb ...\n",
            "Unpacking qml-module-qtquick2:amd64 (5.9.5-0ubuntu1.1) ...\n",
            "Selecting previously unselected package qml-module-qtgraphicaleffects:amd64.\n",
            "Preparing to unpack .../05-qml-module-qtgraphicaleffects_5.9.5-0ubuntu1_amd64.deb ...\n",
            "Unpacking qml-module-qtgraphicaleffects:amd64 (5.9.5-0ubuntu1) ...\n",
            "Selecting previously unselected package qml-module-qtquick-layouts:amd64.\n",
            "Preparing to unpack .../06-qml-module-qtquick-layouts_5.9.5-0ubuntu1.1_amd64.deb ...\n",
            "Unpacking qml-module-qtquick-layouts:amd64 (5.9.5-0ubuntu1.1) ...\n",
            "Selecting previously unselected package qml-module-qtquick-controls:amd64.\n",
            "Preparing to unpack .../07-qml-module-qtquick-controls_5.9.5-0ubuntu1_amd64.deb ...\n",
            "Unpacking qml-module-qtquick-controls:amd64 (5.9.5-0ubuntu1) ...\n",
            "Selecting previously unselected package desktop-file-utils.\n",
            "Preparing to unpack .../08-desktop-file-utils_0.23-1ubuntu3.18.04.2_amd64.deb ...\n",
            "Unpacking desktop-file-utils (0.23-1ubuntu3.18.04.2) ...\n",
            "Selecting previously unselected package fonts-freefont-ttf.\n",
            "Preparing to unpack .../09-fonts-freefont-ttf_20120503-7_all.deb ...\n",
            "Unpacking fonts-freefont-ttf (20120503-7) ...\n",
            "Selecting previously unselected package libgl1-mesa-glx:amd64.\n",
            "Preparing to unpack .../10-libgl1-mesa-glx_20.0.8-0ubuntu1~18.04.1_amd64.deb ...\n",
            "Unpacking libgl1-mesa-glx:amd64 (20.0.8-0ubuntu1~18.04.1) ...\n",
            "Selecting previously unselected package libportaudio2:amd64.\n",
            "Preparing to unpack .../11-libportaudio2_19.6.0-1_amd64.deb ...\n",
            "Unpacking libportaudio2:amd64 (19.6.0-1) ...\n",
            "Selecting previously unselected package libportmidi0:amd64.\n",
            "Preparing to unpack .../12-libportmidi0_1%3a217-6_amd64.deb ...\n",
            "Unpacking libportmidi0:amd64 (1:217-6) ...\n",
            "Selecting previously unselected package libqt5help5:amd64.\n",
            "Preparing to unpack .../13-libqt5help5_5.9.5-0ubuntu1_amd64.deb ...\n",
            "Unpacking libqt5help5:amd64 (5.9.5-0ubuntu1) ...\n",
            "Selecting previously unselected package libqt5xmlpatterns5:amd64.\n",
            "Preparing to unpack .../14-libqt5xmlpatterns5_5.9.5-0ubuntu1_amd64.deb ...\n",
            "Unpacking libqt5xmlpatterns5:amd64 (5.9.5-0ubuntu1) ...\n",
            "Selecting previously unselected package qml-module-qtquick-privatewidgets:amd64.\n",
            "Preparing to unpack .../15-qml-module-qtquick-privatewidgets_5.9.5-0ubuntu1_amd64.deb ...\n",
            "Unpacking qml-module-qtquick-privatewidgets:amd64 (5.9.5-0ubuntu1) ...\n",
            "Selecting previously unselected package qml-module-qtquick-dialogs:amd64.\n",
            "Preparing to unpack .../16-qml-module-qtquick-dialogs_5.9.5-0ubuntu1_amd64.deb ...\n",
            "Unpacking qml-module-qtquick-dialogs:amd64 (5.9.5-0ubuntu1) ...\n",
            "Selecting previously unselected package musescore-general-soundfont-small.\n",
            "Preparing to unpack .../17-musescore-general-soundfont-small_0.2.1-1~ppa_all.deb ...\n",
            "Unpacking musescore-general-soundfont-small (0.2.1-1~ppa) ...\n",
            "Selecting previously unselected package musescore-common.\n",
            "Preparing to unpack .../18-musescore-common_2.3.2+dfsg4-15~ppa1804+1_all.deb ...\n",
            "Unpacking musescore-common (2.3.2+dfsg4-15~ppa1804+1) ...\n",
            "Selecting previously unselected package musescore.\n",
            "Preparing to unpack .../19-musescore_2.3.2+dfsg4-15~ppa1804+1_amd64.deb ...\n",
            "Unpacking musescore (2.3.2+dfsg4-15~ppa1804+1) ...\n",
            "Setting up libqt5qml5:amd64 (5.9.5-0ubuntu1.1) ...\n",
            "Setting up libqt5quick5:amd64 (5.9.5-0ubuntu1.1) ...\n",
            "Setting up qml-module-qtquick2:amd64 (5.9.5-0ubuntu1.1) ...\n",
            "Setting up libportaudio2:amd64 (19.6.0-1) ...\n",
            "Setting up desktop-file-utils (0.23-1ubuntu3.18.04.2) ...\n",
            "Setting up qml-module-qtquick-layouts:amd64 (5.9.5-0ubuntu1.1) ...\n",
            "Setting up musescore-general-soundfont-small (0.2.1-1~ppa) ...\n",
            "update-alternatives: using /usr/share/sounds/sf3/MuseScore_General_Lite.sf3 to provide /usr/share/sounds/sf3/default-GM.sf3 (default-GM.sf3) in auto mode\n",
            "update-alternatives: using /usr/share/sounds/sf3/MuseScore_General_Lite.sf3 to provide /usr/share/sounds/sf3/MuseScore_General.sf3 (MuseScore_General.sf3) in auto mode\n",
            "Setting up libqt5help5:amd64 (5.9.5-0ubuntu1) ...\n",
            "Setting up libqt5xmlpatterns5:amd64 (5.9.5-0ubuntu1) ...\n",
            "Setting up musescore-common (2.3.2+dfsg4-15~ppa1804+1) ...\n",
            "Setting up qml-module-qtquick-privatewidgets:amd64 (5.9.5-0ubuntu1) ...\n",
            "Setting up libgl1-mesa-glx:amd64 (20.0.8-0ubuntu1~18.04.1) ...\n",
            "Setting up libportmidi0:amd64 (1:217-6) ...\n",
            "Setting up libqt5svg5:amd64 (5.9.5-0ubuntu1.1) ...\n",
            "Setting up qml-module-qtquick-window2:amd64 (5.9.5-0ubuntu1.1) ...\n",
            "Setting up qml-module-qtquick-dialogs:amd64 (5.9.5-0ubuntu1) ...\n",
            "Setting up fonts-freefont-ttf (20120503-7) ...\n",
            "Setting up qml-module-qtgraphicaleffects:amd64 (5.9.5-0ubuntu1) ...\n",
            "Setting up qml-module-qtquick-controls:amd64 (5.9.5-0ubuntu1) ...\n",
            "Setting up musescore (2.3.2+dfsg4-15~ppa1804+1) ...\n",
            "Processing triggers for libc-bin (2.27-3ubuntu1.6) ...\n",
            "Processing triggers for man-db (2.8.3-2ubuntu0.1) ...\n",
            "Processing triggers for shared-mime-info (1.9-2) ...\n",
            "Processing triggers for hicolor-icon-theme (0.17-2) ...\n",
            "Processing triggers for fontconfig (2.12.6-0ubuntu2) ...\n",
            "Processing triggers for mime-support (3.60ubuntu1) ...\n"
          ]
        }
      ]
    },
    {
      "cell_type": "code",
      "metadata": {
        "id": "Yxxz3oEIVkeI",
        "colab": {
          "base_uri": "https://localhost:8080/"
        },
        "outputId": "8cbef35a-6585-4ead-f3f5-ce399c7e540e"
      },
      "source": [
        "!apt-get install xvfb"
      ],
      "execution_count": 3,
      "outputs": [
        {
          "output_type": "stream",
          "name": "stdout",
          "text": [
            "Reading package lists... Done\n",
            "Building dependency tree       \n",
            "Reading state information... Done\n",
            "The following package was automatically installed and is no longer required:\n",
            "  libnvidia-common-460\n",
            "Use 'apt autoremove' to remove it.\n",
            "The following NEW packages will be installed:\n",
            "  xvfb\n",
            "0 upgraded, 1 newly installed, 0 to remove and 26 not upgraded.\n",
            "Need to get 785 kB of archives.\n",
            "After this operation, 2,271 kB of additional disk space will be used.\n",
            "Get:1 http://archive.ubuntu.com/ubuntu bionic-updates/universe amd64 xvfb amd64 2:1.19.6-1ubuntu4.13 [785 kB]\n",
            "Fetched 785 kB in 0s (2,969 kB/s)\n",
            "Selecting previously unselected package xvfb.\n",
            "(Reading database ... 124984 files and directories currently installed.)\n",
            "Preparing to unpack .../xvfb_2%3a1.19.6-1ubuntu4.13_amd64.deb ...\n",
            "Unpacking xvfb (2:1.19.6-1ubuntu4.13) ...\n",
            "Setting up xvfb (2:1.19.6-1ubuntu4.13) ...\n",
            "Processing triggers for man-db (2.8.3-2ubuntu0.1) ...\n"
          ]
        }
      ]
    },
    {
      "cell_type": "code",
      "metadata": {
        "id": "CP91XD_o8nr4"
      },
      "source": [
        "from music21 import *\n",
        "us = environment.UserSettings()\n",
        "us['musescoreDirectPNGPath'] = '/usr/bin/mscore'\n",
        "us['directoryScratch'] = '/tmp'\n",
        "\n",
        "# music21 is Open Source under the BSD License\n",
        "# Copyright (c) 2006-22 Michael Scott Asato Cuthbert and cuthbertLab\n",
        "# Support music21 by citing it in your research or produts:\n",
        "#\n",
        "#     Cuthbert, Michael Scott.  \n",
        "#     _music21: a Toolkit for Computer-Aided Music Research_\n",
        "#     https://web.mit.edu/music21\n",
        "#     2006-22"
      ],
      "execution_count": 4,
      "outputs": []
    },
    {
      "cell_type": "markdown",
      "metadata": {
        "id": "6C3G6bMAYQSz"
      },
      "source": [
        "# Begin music21 code here..."
      ]
    },
    {
      "cell_type": "markdown",
      "source": [
        "# New Section"
      ],
      "metadata": {
        "id": "1QLezXvpBT4L"
      }
    },
    {
      "cell_type": "code",
      "metadata": {
        "id": "RtkrxnZAYVg7",
        "colab": {
          "base_uri": "https://localhost:8080/",
          "height": 84
        },
        "outputId": "e2fb50ad-949a-440d-8a75-0518817da998"
      },
      "source": [
        "from music21 import *\n",
        "n = note.Note('g4')\n",
        "n.show('text')\n",
        "n.show()"
      ],
      "execution_count": 6,
      "outputs": [
        {
          "output_type": "stream",
          "name": "stdout",
          "text": [
            "<music21.note.Note G>\n"
          ]
        },
        {
          "output_type": "display_data",
          "data": {
            "image/png": "[encoded data removed]",
            "text/plain": [
              "<IPython.core.display.Image object>"
            ]
          },
          "metadata": {
            "image/png": {
              "width": 150,
              "height": 49
            }
          }
        }
      ]
    },
    {
      "cell_type": "code",
      "source": [
        "n.show('midi')"
      ],
      "metadata": {
        "id": "u_7edz0EPY_9",
        "colab": {
          "base_uri": "https://localhost:8080/",
          "height": 17
        },
        "outputId": "26e26328-c8c4-4ecf-b496-c071d215e5db"
      },
      "execution_count": null,
      "outputs": [
        {
          "output_type": "display_data",
          "data": {
            "text/plain": [
              "<IPython.core.display.HTML object>"
            ],
            "text/html": [
              "\n",
              "                <div id='midiPlayerDiv291'></div>\n",
              "                <link rel=\"stylesheet\" href=\"//cuthbertLab.github.io/music21j/css/m21.css\"\n",
              "                    type=\"text/css\" />\n",
              "                <script>\n",
              "                require.config({\n",
              "                    paths: {'music21': '//cuthbertLab.github.io/music21j/src/music21'}\n",
              "                });\n",
              "                require(['music21'], function() {\n",
              "                               mp = new music21.miditools.MidiPlayer();\n",
              "                               mp.addPlayer('#midiPlayerDiv291');\n",
              "                               mp.base64Load('data:audio/midi;base64,TVRoZAAAAAYAAQABBABNVHJrAAAAFgD/AwAA4ABAAJA8WogAgDwAiAD/LwA=');\n",
              "                        });\n",
              "                </script>"
            ]
          },
          "metadata": {}
        }
      ]
    }
  ]
}