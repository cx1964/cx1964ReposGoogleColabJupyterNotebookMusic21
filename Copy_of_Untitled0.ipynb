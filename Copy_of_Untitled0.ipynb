{
  "nbformat": 4,
  "nbformat_minor": 0,
  "metadata": {
    "colab": {
      "name": "Copy of Untitled0.ipynb",
      "provenance": [],
      "collapsed_sections": [],
      "authorship_tag": "ABX9TyMUX02ALv3KSVo6CNLlty1L",
      "include_colab_link": true
    },
    "kernelspec": {
      "name": "python3",
      "display_name": "Python 3"
    }
  },
  "cells": [
    {
      "cell_type": "markdown",
      "metadata": {
        "id": "view-in-github",
        "colab_type": "text"
      },
      "source": [
        "<a href=\"https://colab.research.google.com/github/cx1964/weg/blob/master/Copy_of_Untitled0.ipynb\" target=\"_parent\"><img src=\"https://colab.research.google.com/assets/colab-badge.svg\" alt=\"Open In Colab\"/></a>"
      ]
    },
    {
      "cell_type": "markdown",
      "metadata": {
        "id": "ZjxAiiOkcvTV"
      },
      "source": [
        ""
      ]
    },
    {
      "cell_type": "code",
      "metadata": {
        "id": "N0Po8UmocyHR"
      },
      "source": [
        ""
      ],
      "execution_count": null,
      "outputs": []
    },
    {
      "cell_type": "code",
      "metadata": {
        "colab": {
          "base_uri": "https://localhost:8080/"
        },
        "id": "pNawtUhnPSln",
        "outputId": "57fb35ad-4f57-4a75-9707-84cae283d9e7"
      },
      "source": [
        "geoJSONlist=\\\n",
        "[\\\n",
        "{\\\n",
        "  \"type\": \"Feature\", \\\n",
        "  \"geometry\": { \\\n",
        "    \"type\": \"Point\", \\\n",
        "    \"coordinates\": [125.6, 10.1] \\\n",
        "  }, \\\n",
        "  \"properties\": { \\\n",
        "    \"name\": \"Dinagat Islands\" \\\n",
        "  } \\\n",
        "}\\\n",
        ",{\\\n",
        "  \"type\": \"Feature\", \\\n",
        "  \"geometry\": { \\\n",
        "    \"type\": \"Point\", \\\n",
        "    \"coordinates\": [52.6, 10.1] \\\n",
        "  }, \\\n",
        "  \"properties\": { \\\n",
        "    \"name\": \"Zoetermeer\" \\\n",
        "  } \\\n",
        "}\\\n",
        "] \n",
        "#print(geoJSONlist) \n",
        "t=0\n",
        "for geoJSONObject in geoJSONlist:\n",
        "    t=t+1\n",
        "    type=geoJSONObject[\"type\"]\n",
        "    print(\"\\ntype:\", type)\n",
        "    \n",
        "    # parse geometry data\n",
        "    geometry=geoJSONObject[\"geometry\"]\n",
        "    geometry_type=geometry[\"type\"]\n",
        "    print(\"geometry.type:\", geometry_type)\n",
        "    geometry_coordinates=geometry[\"coordinates\"]\n",
        "    x=geometry_coordinates[0]\n",
        "    print(\"geometry.coordinates.x:\",x)\n",
        "    y=geometry_coordinates[1]\n",
        "    print(\"geometry.coordinates.y\",y)\n",
        "\n",
        "    # parse property data\n",
        "    properties=geoJSONObject[\"properties\"]\n",
        "    properties_name=properties[\"name\"]\n",
        "    print(\"properties.name:\",properties_name)\n",
        "    #print(geoJSONObject)\n",
        "print(\"\\naantal objecten:\",t)  "
      ],
      "execution_count": 4,
      "outputs": [
        {
          "output_type": "stream",
          "text": [
            "\n",
            "type: Feature\n",
            "geometry.type: Point\n",
            "geometry.coordinates.x: 125.6\n",
            "geometry.coordinates.y 10.1\n",
            "properties.name: Dinagat Islands\n",
            "\n",
            "type: Feature\n",
            "geometry.type: Point\n",
            "geometry.coordinates.x: 52.6\n",
            "geometry.coordinates.y 10.1\n",
            "properties.name: Zoetermeer\n",
            "\n",
            "aantal objecten: 2\n"
          ],
          "name": "stdout"
        }
      ]
    },
    {
      "cell_type": "code",
      "metadata": {
        "id": "xxue9HFKZwTp"
      },
      "source": [
        ""
      ],
      "execution_count": null,
      "outputs": []
    },
    {
      "cell_type": "code",
      "metadata": {
        "id": "KtmxneHLaBIh"
      },
      "source": [
        ""
      ],
      "execution_count": null,
      "outputs": []
    },
    {
      "cell_type": "code",
      "metadata": {
        "id": "hLi16cDsaCT2"
      },
      "source": [
        ""
      ],
      "execution_count": null,
      "outputs": []
    },
    {
      "cell_type": "markdown",
      "metadata": {
        "id": "PSGm2nBhQeSn"
      },
      "source": [
        ""
      ]
    },
    {
      "cell_type": "markdown",
      "metadata": {
        "id": "qzToyF01QwFW"
      },
      "source": [
        ""
      ]
    },
    {
      "cell_type": "code",
      "metadata": {
        "id": "XoB5Yj_RQxJC"
      },
      "source": [
        ""
      ],
      "execution_count": null,
      "outputs": []
    }
  ]
}